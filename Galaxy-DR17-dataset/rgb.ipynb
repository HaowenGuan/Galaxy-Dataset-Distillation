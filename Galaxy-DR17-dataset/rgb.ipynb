{
 "cells": [
  {
   "cell_type": "code",
   "execution_count": 1,
   "id": "fbbfec9d",
   "metadata": {
    "scrolled": true
   },
   "outputs": [
    {
     "name": "stdout",
     "output_type": "stream",
     "text": [
      "17.731789725839704 15.430111632709835 12.12872922979763\n",
      "31.393824940038975 26.39749240187545 23.12931627489208\n"
     ]
    }
   ],
   "source": [
    "import torch\n",
    "import numpy\n",
    "from glob import glob\n",
    "from torchvision.io import read_image, ImageReadMode\n",
    "\n",
    "imgs = [read_image(path, mode = ImageReadMode.RGB) for path in glob('./MaNGA/image/*.jpg')]\n",
    "imgs = torch.stack(imgs, dim = 0).numpy()\n",
    "\n",
    "mean_r = imgs[:, 0, :, :].mean()\n",
    "mean_g = imgs[:, 1, :, :].mean()\n",
    "mean_b = imgs[:, 2, :, :].mean()\n",
    "print(mean_r, mean_g, mean_b)\n",
    "\n",
    "std_r = imgs[:, 0, :, :].std()\n",
    "std_g = imgs[:, 1, :, :].std()\n",
    "std_b = imgs[:, 2, :, :].std()\n",
    "print(std_r, std_g, std_b)"
   ]
  },
  {
   "cell_type": "code",
   "execution_count": 2,
   "id": "cf174256",
   "metadata": {},
   "outputs": [
    {
     "name": "stdout",
     "output_type": "stream",
     "text": [
      "0.0695364302974106 0.060510241696901314 0.04756364403842208\n"
     ]
    }
   ],
   "source": [
    "print(mean_r / 255.0, mean_g / 255.0, mean_b / 255.0)"
   ]
  },
  {
   "cell_type": "code",
   "execution_count": 3,
   "id": "531b0555",
   "metadata": {},
   "outputs": [
    {
     "name": "stdout",
     "output_type": "stream",
     "text": [
      "0.123113038980545 0.10351957804657039 0.09070320107800815\n"
     ]
    }
   ],
   "source": [
    "print(std_r / 255.0, std_g / 255.0, std_b / 255.0)"
   ]
  }
 ],
 "metadata": {
  "kernelspec": {
   "display_name": "Python 3 (ipykernel)",
   "language": "python",
   "name": "python3"
  },
  "language_info": {
   "codemirror_mode": {
    "name": "ipython",
    "version": 3
   },
   "file_extension": ".py",
   "mimetype": "text/x-python",
   "name": "python",
   "nbconvert_exporter": "python",
   "pygments_lexer": "ipython3",
   "version": "3.8.8"
  }
 },
 "nbformat": 4,
 "nbformat_minor": 5
}
